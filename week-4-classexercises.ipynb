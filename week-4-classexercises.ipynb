{
 "cells": [
  {
   "cell_type": "code",
   "execution_count": 1,
   "id": "aac502b2",
   "metadata": {},
   "outputs": [
    {
     "name": "stdout",
     "output_type": "stream",
     "text": [
      "Enter number4\n",
      "1 \n",
      "1 2 \n",
      "1 2 3 \n",
      "1 2 3 4 \n"
     ]
    }
   ],
   "source": [
    "num= int(input(\"Enter number\"))\n",
    "for i in range (1,num + 1):\n",
    "    for j in range(1,i + 1):\n",
    "        print(j,end=\" \")\n",
    "    print()"
   ]
  },
  {
   "cell_type": "code",
   "execution_count": 2,
   "id": "8cd40fb9",
   "metadata": {},
   "outputs": [
    {
     "name": "stdout",
     "output_type": "stream",
     "text": [
      "2 is a prime number\n",
      "3 is a prime number\n",
      "5 is a prime number\n",
      "7 is a prime number\n",
      "11 is a prime number\n",
      "13 is a prime number\n",
      "17 is a prime number\n",
      "19 is a prime number\n",
      "23 is a prime number\n",
      "29 is a prime number\n",
      "31 is a prime number\n",
      "37 is a prime number\n",
      "41 is a prime number\n",
      "43 is a prime number\n",
      "47 is a prime number\n",
      "bye bye now\n"
     ]
    }
   ],
   "source": [
    "num=2\n",
    "for i in range (2, 50):\n",
    "    j=2\n",
    "    while ( j <= (i/2)):\n",
    "        if (i % j == 0):\n",
    "            break\n",
    "        j += 1\n",
    "    if (j > i/j):\n",
    "        print( i, \"is a prime number\")\n",
    "print (\"bye bye now\")"
   ]
  },
  {
   "cell_type": "code",
   "execution_count": 4,
   "id": "9fd27918",
   "metadata": {},
   "outputs": [
    {
     "name": "stdout",
     "output_type": "stream",
     "text": [
      "Enter a number:3\n",
      "factorial of 3 is 6\n"
     ]
    }
   ],
   "source": [
    "num = int(input(\"Enter a number:\"))\n",
    "fact=1\n",
    "if num< 0:\n",
    "    print(\"Sorry, factorial does not exist for negative numbers\")\n",
    "elif num ==0:\n",
    "     print(\"the factorial of 0 is 1\")\n",
    "else:\n",
    "    for i in range(1, num + 1):\n",
    "        fact = fact * i\n",
    "    print(\"factorial of\", num, \"is\" , fact)"
   ]
  },
  {
   "cell_type": "code",
   "execution_count": 5,
   "id": "3ef4c330",
   "metadata": {},
   "outputs": [
    {
     "name": "stdout",
     "output_type": "stream",
     "text": [
      "Enter number4\n",
      "4 is a prime number\n"
     ]
    }
   ],
   "source": [
    "num=int(input(\"Enter number\"))\n",
    "flag = 0\n",
    "if num > 1:\n",
    "    for i in range(2, int(num/2)):\n",
    "        if ( num % i ==0):\n",
    "            flag = 1\n",
    "            break\n",
    "    if flag == 1:\n",
    "        print(num, \"is not a prime number\")\n",
    "    else:\n",
    "        print( num, \"is a prime number\")\n",
    "else:\n",
    "    print(\"enter number is <= 1, execute again!!!\")"
   ]
  },
  {
   "cell_type": "code",
   "execution_count": null,
   "id": "d51cb5d1",
   "metadata": {},
   "outputs": [],
   "source": []
  }
 ],
 "metadata": {
  "kernelspec": {
   "display_name": "Python 3 (ipykernel)",
   "language": "python",
   "name": "python3"
  },
  "language_info": {
   "codemirror_mode": {
    "name": "ipython",
    "version": 3
   },
   "file_extension": ".py",
   "mimetype": "text/x-python",
   "name": "python",
   "nbconvert_exporter": "python",
   "pygments_lexer": "ipython3",
   "version": "3.9.7"
  }
 },
 "nbformat": 4,
 "nbformat_minor": 5
}
